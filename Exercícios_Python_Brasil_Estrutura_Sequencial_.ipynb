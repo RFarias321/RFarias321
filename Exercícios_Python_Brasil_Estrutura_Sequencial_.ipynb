{
  "nbformat": 4,
  "nbformat_minor": 0,
  "metadata": {
    "colab": {
      "name": "Exercícios Python Brasil- Estrutura Sequencial .ipynb",
      "provenance": [],
      "authorship_tag": "ABX9TyPwUTljKTfvUE0xriCc6eGN",
      "include_colab_link": true
    },
    "kernelspec": {
      "name": "python3",
      "display_name": "Python 3"
    },
    "language_info": {
      "name": "python"
    }
  },
  "cells": [
    {
      "cell_type": "markdown",
      "metadata": {
        "id": "view-in-github",
        "colab_type": "text"
      },
      "source": [
        "<a href=\"https://colab.research.google.com/github/RFarias321/RFarias321/blob/main/Exerc%C3%ADcios_Python_Brasil_Estrutura_Sequencial_.ipynb\" target=\"_parent\"><img src=\"https://colab.research.google.com/assets/colab-badge.svg\" alt=\"Open In Colab\"/></a>"
      ]
    },
    {
      "cell_type": "markdown",
      "metadata": {
        "id": "cBxmkiYV7GFX"
      },
      "source": [
        "#Faça um Programa que mostre a mensagem \"Alo mundo\" na tela."
      ]
    },
    {
      "cell_type": "code",
      "metadata": {
        "colab": {
          "base_uri": "https://localhost:8080/",
          "height": 38
        },
        "id": "xnodHDke7KXV",
        "outputId": "35e46643-1344-4ef0-c914-17fc305c3ca1"
      },
      "source": [
        "Saudação = \"Alô, Mundo!\"\n",
        "Saudação"
      ],
      "execution_count": null,
      "outputs": [
        {
          "output_type": "execute_result",
          "data": {
            "application/vnd.google.colaboratory.intrinsic+json": {
              "type": "string"
            },
            "text/plain": [
              "'Alô, Mundo!'"
            ]
          },
          "metadata": {},
          "execution_count": 5
        }
      ]
    },
    {
      "cell_type": "markdown",
      "metadata": {
        "id": "9tY2uOwl9H4l"
      },
      "source": [
        "## Faça um Programa que peça um número e então mostre a mensagem O número informado foi [número]."
      ]
    },
    {
      "cell_type": "code",
      "metadata": {
        "colab": {
          "base_uri": "https://localhost:8080/"
        },
        "id": "LVnXVHe29LWn",
        "outputId": "01724c22-97db-40b2-b33c-cb0bd85d3b17"
      },
      "source": [
        "numero = input(\"Digite o número desejado:\")\n",
        "print(\"O numero informado foi \", numero)\n"
      ],
      "execution_count": null,
      "outputs": [
        {
          "output_type": "stream",
          "name": "stdout",
          "text": [
            "Digite o número desejado:10\n",
            "O numero informado foi  10\n"
          ]
        }
      ]
    },
    {
      "cell_type": "code",
      "metadata": {
        "colab": {
          "base_uri": "https://localhost:8080/"
        },
        "id": "2KTZazvJ-q6-",
        "outputId": "4ebbeb58-e803-450d-bdd6-1da1b42aed00"
      },
      "source": [
        "nome = input(\"Digite um nome desejado: \")\n",
        "print('O nome escolhido foi:', nome)"
      ],
      "execution_count": null,
      "outputs": [
        {
          "output_type": "stream",
          "name": "stdout",
          "text": [
            "Digite um nome desejado: Beto\n",
            "O nome escolhido foi: Beto\n"
          ]
        }
      ]
    },
    {
      "cell_type": "code",
      "metadata": {
        "id": "1fMrdslu_f6x"
      },
      "source": [
        ""
      ],
      "execution_count": null,
      "outputs": []
    },
    {
      "cell_type": "markdown",
      "metadata": {
        "id": "jxFYqOuoAmWy"
      },
      "source": [
        "## Faça um Programa que peça dois números e imprima a soma."
      ]
    },
    {
      "cell_type": "code",
      "metadata": {
        "colab": {
          "base_uri": "https://localhost:8080/"
        },
        "id": "RBepW1zpAple",
        "outputId": "8704b6a2-7095-4fff-c5f4-f89a770e5a8f"
      },
      "source": [
        "\n",
        "Nome = input('Qual é o seu nome?:')\n",
        "Matricula = input('Qual o número de sua matricula?:')\n",
        "AV1 = float(input('Digite a nota da AV1:'))\n",
        "AV2 = float(input('Digite a nota da AV2:'))\n",
        "\n",
        "print(\"A soma da\", AV1, \"+\", AV2, \"e igual a\", AV1 + AV2)"
      ],
      "execution_count": null,
      "outputs": [
        {
          "output_type": "stream",
          "name": "stdout",
          "text": [
            "Qual é o seu nome?:Beto\n",
            "Qual o número de sua matricula?:09208299\n",
            "Digite a nota da AV1:5\n",
            "Digite a nota da AV2:5\n",
            "A soma da 5.0 + 5.0 e igual a 10.0\n"
          ]
        }
      ]
    }
  ]
}